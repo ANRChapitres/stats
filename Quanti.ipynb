{
 "cells": [
  {
   "cell_type": "code",
   "execution_count": 64,
   "metadata": {
    "collapsed": true
   },
   "outputs": [],
   "source": [
    "import sys\n",
    "import os\n",
    "import os.path\n",
    "import fnmatch\n",
    "from lxml import etree\n",
    "from lxml.etree import tostring\n",
    "import re\n",
    "from collections import defaultdict\n",
    "from collections import OrderedDict\n",
    "import matplotlib.pyplot as plt\n",
    "import numpy as np"
   ]
  },
  {
   "cell_type": "code",
   "execution_count": 93,
   "metadata": {
    "collapsed": false
   },
   "outputs": [],
   "source": [
    "stats=defaultdict(list)\n",
    "plot=OrderedDict()\n",
    "bugs=list()\n",
    "pathToFolder='/home/bilbo/Bureau/ANR/romans/'\n",
    "for idx, tmpFile in enumerate(fnmatch.filter(os.listdir(pathToFolder), '*.xml')):\n",
    "    execute=False\n",
    "    tmpFile=tmpFile.replace(\"/\",\":\")\n",
    "    fullPath=pathToFolder+tmpFile\n",
    "    #print(\"\\n\"+tmpFile)\n",
    "    if os.path.isfile(fullPath):\n",
    "        tree=etree.parse(fullPath)\n",
    "    \n",
    "    words=list()\n",
    "    if tree.findall(\".//div[@type='chapter']\"):\n",
    "        for chapter in tree.findall(\".//div[@type='chapter']\"):\n",
    "            tmp=\"\".join(chapter.itertext())\n",
    "            numWords=len(re.split('[\\n\\s]+',tmp))\n",
    "            words.append(numWords)\n",
    "            execute=True\n",
    "    elif tree.findall(\".//div[@type='part']\"):\n",
    "        for chapter in tree.findall(\".//div[@type='part']\"):\n",
    "            tmp=\"\".join(chapter.itertext())\n",
    "            numWords=len(re.split('[\\n\\s]+',tmp))\n",
    "            words.append(numWords)\n",
    "            execute=True\n",
    "    \n",
    "    else :\n",
    "        bugs.append(tmpFile+\" ; \")\n",
    "        execute=False\n",
    "    \n",
    "    yearKey=int(tmpFile[:3]+\"0\")\n",
    "    \n",
    "    if execute==True:\n",
    "    \n",
    "        average=sum(words)/len(words)\n",
    "        #print(\"Nombre de mots moyen par chapitre : \"+str(average))\n",
    "    \n",
    "        stats[yearKey].append(average)\n",
    "\n",
    "for year in sorted(stats.keys()):\n",
    "    if len(stats[year])>0:\n",
    "        plot[year]=sum(stats[year])/len(stats[year])\n",
    "\n",
    "plt.xlim(min(plot),max(plot))\n",
    "plt.ylim(min(plot.values()),max(plot.values()))\n",
    "\n",
    "#print(bugs)\n",
    "\n",
    "x = list(plot.keys())\n",
    "y = list(plot.values())\n",
    "plt.title('Nombre de mots par chapitre dans le temps')\n",
    "plt.plot(x,y,'-')\n",
    "plt.show()"
   ]
  }
 ],
 "metadata": {
  "kernelspec": {
   "display_name": "Python 3",
   "language": "python",
   "name": "python3"
  },
  "language_info": {
   "codemirror_mode": {
    "name": "ipython",
    "version": 3
   },
   "file_extension": ".py",
   "mimetype": "text/x-python",
   "name": "python",
   "nbconvert_exporter": "python",
   "pygments_lexer": "ipython3",
   "version": "3.5.1"
  }
 },
 "nbformat": 4,
 "nbformat_minor": 0
}
